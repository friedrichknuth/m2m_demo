{
 "cells": [
  {
   "cell_type": "markdown",
   "metadata": {
    "collapsed": true
   },
   "source": [
    "# OOI Machine to Machine (M2M) Basics\n",
    "Here the basic instructions to get started using the OOI M2M Web Services."
   ]
  },
  {
   "cell_type": "markdown",
   "metadata": {},
   "source": [
    "## Getting Started\n",
    "* Create a user account on [ooinet.oceanobservatories.org](https://www.ooinet.oceanobservatories.org), or use the CILogon button with an academic or Google account.\n",
    "* Log in\n",
    "* Navigate to the drop down menu screen in the top-right corner menu\n",
    "* Click on the \"User Profile\" element of the drop down.\n",
    "* Copy and save the following data from the user profile: API Username and API Token.  The API Username is similar to “OOIAPI-QTULEV9STCAS55”.  The API Token is similar to “YXP2Q2W4SOP”."
   ]
  },
  {
   "cell_type": "code",
   "execution_count": 1,
   "metadata": {
    "collapsed": true
   },
   "outputs": [],
   "source": [
    "USERNAME ='YOUR API USERNAME'\n",
    "TOKEN= 'YOUR API TOKEN'"
   ]
  },
  {
   "cell_type": "markdown",
   "metadata": {},
   "source": [
    "In this example we will request information and data from the Cabled Axial Seamount Central Caldera (RS03CCAL) - Medium-Power JBox (MJ03F) - Bottom Pressure and Tilt (05-BOTPTA301) sensor.\n",
    "\n",
    "Reference Designator: RS03CCAL-MJ03F-05-BOTPTA301   "
   ]
  },
  {
   "cell_type": "code",
   "execution_count": 2,
   "metadata": {
    "collapsed": true
   },
   "outputs": [],
   "source": [
    "import requests\n",
    "import json"
   ]
  },
  {
   "cell_type": "markdown",
   "metadata": {},
   "source": [
    "#### Request Streams by Reference Designator\n",
    "TIP: Add `?partition=true` to the end of the url in the example to get finer time breakdown by particle bin.  \n",
    "NOTE: When adding `?partition=true`, the reponse is large and will not print nicely in a notebook."
   ]
  },
  {
   "cell_type": "code",
   "execution_count": null,
   "metadata": {
    "collapsed": true
   },
   "outputs": [],
   "source": [
    "response = requests.get('https://ooinet.oceanobservatories.org/api/m2m/12576/sensor/inv/RS03CCAL/MJ03F/05-BOTPTA301/metadata/times', auth=(USERNAME, TOKEN))\n",
    "print json.dumps(response.json(), indent=2)"
   ]
  },
  {
   "cell_type": "markdown",
   "metadata": {
    "collapsed": false
   },
   "source": [
    "#### Request Parameters contained within each Stream\n",
    "NOTE: The `particleKey` is the parameter name and the 'pdId' is its reference number."
   ]
  },
  {
   "cell_type": "code",
   "execution_count": null,
   "metadata": {
    "collapsed": true
   },
   "outputs": [],
   "source": [
    "response = requests.get('https://ooinet.oceanobservatories.org/api/m2m/12576/sensor/inv/RS03CCAL/MJ03F/05-BOTPTA301/metadata/parameters', auth=(USERNAME, TOKEN))\n",
    "print json.dumps(response.json(), indent=2)"
   ]
  },
  {
   "cell_type": "markdown",
   "metadata": {},
   "source": [
    "#### Synchronous Request \n",
    "NOTE: Data for stream `botpt_nano_sample` returned in JSON reponse. Set the beginDT and endDT to a time interval that will contain less than 1000 data points to get an undecimated response."
   ]
  },
  {
   "cell_type": "code",
   "execution_count": null,
   "metadata": {
    "collapsed": true
   },
   "outputs": [],
   "source": [
    "response = requests.get('https://ooinet.oceanobservatories.org/api/m2m/12576/sensor/inv/RS03CCAL/MJ03F/05-BOTPTA301/streamed/botpt_nano_sample?beginDT=2017-07-04T17:54:58.050Z&endDT=2017-07-04T17:55:58.050Z&limit=1000', auth=(USERNAME, TOKEN))\n",
    "print json.dumps(response.json(), indent=2)"
   ]
  },
  {
   "cell_type": "markdown",
   "metadata": {},
   "source": [
    "#### Synchronous Request by Parameter\n",
    "NOTE: PD7 is 'time' and PD848 is 'bottom_pressure'"
   ]
  },
  {
   "cell_type": "code",
   "execution_count": null,
   "metadata": {
    "collapsed": true
   },
   "outputs": [],
   "source": [
    "response = requests.get('https://ooinet.oceanobservatories.org/api/m2m/12576/sensor/inv/RS03CCAL/MJ03F/05-BOTPTA301/streamed/botpt_nano_sample?beginDT=2017-07-04T17:54:58.050Z&endDT=2017-07-04T17:55:58.050Z&limit=1000&parameters=7,848', auth=(USERNAME, TOKEN))\n",
    "print json.dumps(response.json(), indent=2)"
   ]
  },
  {
   "cell_type": "markdown",
   "metadata": {},
   "source": [
    "#### Asynchronous Request\n",
    "NOTE: Data returned via NetCDF on THREDDS server. Link to data on THREDDS server in response.  \n",
    "TIP: Check status.txt on THREDDS server for status of request."
   ]
  },
  {
   "cell_type": "code",
   "execution_count": null,
   "metadata": {
    "collapsed": true
   },
   "outputs": [],
   "source": [
    "response = requests.get('https://ooinet.oceanobservatories.org/api/m2m/12576/sensor/inv/RS03CCAL/MJ03F/05-BOTPTA301/streamed/botpt_nano_sample?beginDT=2017-07-04T17:54:58.050Z&endDT=2017-07-04T17:55:58.050Z&include_provenance=true&format=application/netcdf', auth=(USERNAME, TOKEN))\n",
    "print json.dumps(response.json(), indent=2)"
   ]
  },
  {
   "cell_type": "markdown",
   "metadata": {},
   "source": [
    "#### Request Deployment Information\n",
    "NOTE: Add deployment number (1) to get details of deployment or -1 to get details of all deployments."
   ]
  },
  {
   "cell_type": "code",
   "execution_count": null,
   "metadata": {
    "collapsed": true
   },
   "outputs": [],
   "source": [
    "response = requests.get('https://ooinet.oceanobservatories.org/api/m2m/12587/events/deployment/inv/RS03CCAL/MJ03F/05-BOTPTA301/-1', auth=(USERNAME, TOKEN))\n",
    "print json.dumps(response.json(), indent=2)"
   ]
  },
  {
   "cell_type": "markdown",
   "metadata": {},
   "source": [
    "#### Request Asset Information by UID\n",
    "NOTE: The UID (ATAPL-58316-00003) for RS03CCAL-MJ03F-05-BOTPTA301 can be found by deployment in the previous response. Like a serial number, the UID uniquely identifies a specific instrument. The UID doployed at a given Reference Designator changes when an intrument is turned."
   ]
  },
  {
   "cell_type": "code",
   "execution_count": null,
   "metadata": {
    "collapsed": true
   },
   "outputs": [],
   "source": [
    "response = requests.get('https://ooinet.oceanobservatories.org/api/m2m/12587/asset?uid=ATAPL-58316-00003', auth=(USERNAME, TOKEN))\n",
    "print json.dumps(response.json(), indent=2)"
   ]
  },
  {
   "cell_type": "markdown",
   "metadata": {},
   "source": [
    "## Additional Resources\n",
    "Data Team QC Database http://ooi.visualocean.net/instruments/view/RS03CCAL-MJ03F-05-BOTPTA301#streams  \n",
    "Data Portal https://ooinet.oceanobservatories.org/data_access/?search=botpta301  \n",
    "Sampling Strategy http://oceanobservatories.org/observation-and-sampling-approach  \n",
    "Data Product Specifications http://oceanobservatories.org/technical-data-package  \n",
    "Data Product Algorithms https://github.com/oceanobservatories/ion-functions/tree/master/ion_functions/data  "
   ]
  }
 ],
 "metadata": {
  "kernelspec": {
   "display_name": "Python 2",
   "language": "python",
   "name": "python2"
  },
  "language_info": {
   "codemirror_mode": {
    "name": "ipython",
    "version": 2
   },
   "file_extension": ".py",
   "mimetype": "text/x-python",
   "name": "python",
   "nbconvert_exporter": "python",
   "pygments_lexer": "ipython2",
   "version": "2.7.13"
  }
 },
 "nbformat": 4,
 "nbformat_minor": 2
}
